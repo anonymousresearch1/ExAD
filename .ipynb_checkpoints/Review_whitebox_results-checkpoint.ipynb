{
 "cells": [
  {
   "cell_type": "code",
   "execution_count": 1,
   "metadata": {},
   "outputs": [
    {
     "name": "stderr",
     "output_type": "stream",
     "text": [
      "/Users/administrator/opt/anaconda3/envs/tf_env/lib/python3.6/site-packages/tensorflow/python/framework/dtypes.py:523: FutureWarning: Passing (type, 1) or '1type' as a synonym of type is deprecated; in a future version of numpy, it will be understood as (type, (1,)) / '(1,)type'.\n",
      "  _np_qint8 = np.dtype([(\"qint8\", np.int8, 1)])\n",
      "/Users/administrator/opt/anaconda3/envs/tf_env/lib/python3.6/site-packages/tensorflow/python/framework/dtypes.py:524: FutureWarning: Passing (type, 1) or '1type' as a synonym of type is deprecated; in a future version of numpy, it will be understood as (type, (1,)) / '(1,)type'.\n",
      "  _np_quint8 = np.dtype([(\"quint8\", np.uint8, 1)])\n",
      "/Users/administrator/opt/anaconda3/envs/tf_env/lib/python3.6/site-packages/tensorflow/python/framework/dtypes.py:525: FutureWarning: Passing (type, 1) or '1type' as a synonym of type is deprecated; in a future version of numpy, it will be understood as (type, (1,)) / '(1,)type'.\n",
      "  _np_qint16 = np.dtype([(\"qint16\", np.int16, 1)])\n",
      "/Users/administrator/opt/anaconda3/envs/tf_env/lib/python3.6/site-packages/tensorflow/python/framework/dtypes.py:526: FutureWarning: Passing (type, 1) or '1type' as a synonym of type is deprecated; in a future version of numpy, it will be understood as (type, (1,)) / '(1,)type'.\n",
      "  _np_quint16 = np.dtype([(\"quint16\", np.uint16, 1)])\n",
      "/Users/administrator/opt/anaconda3/envs/tf_env/lib/python3.6/site-packages/tensorflow/python/framework/dtypes.py:527: FutureWarning: Passing (type, 1) or '1type' as a synonym of type is deprecated; in a future version of numpy, it will be understood as (type, (1,)) / '(1,)type'.\n",
      "  _np_qint32 = np.dtype([(\"qint32\", np.int32, 1)])\n",
      "/Users/administrator/opt/anaconda3/envs/tf_env/lib/python3.6/site-packages/tensorflow/python/framework/dtypes.py:532: FutureWarning: Passing (type, 1) or '1type' as a synonym of type is deprecated; in a future version of numpy, it will be understood as (type, (1,)) / '(1,)type'.\n",
      "  np_resource = np.dtype([(\"resource\", np.ubyte, 1)])\n",
      "Using TensorFlow backend.\n"
     ]
    }
   ],
   "source": [
    "import os\n",
    "# os.environ[\"CUDA_DEVICE_ORDER\"]=\"PCI_BUS_ID\"\n",
    "# os.environ[\"CUDA_VISIBLE_DEVICES\"]=\"1\"\n",
    "\n",
    "import tensorflow as tf\n",
    "import keras\n",
    "from keras import backend as K\n",
    "from keras.models import Model\n",
    "from keras.utils import to_categorical\n",
    "from keras.layers import Input, Dense, Lambda, merge, Dropout, Flatten, Conv2D, MaxPooling2D\n",
    "from keras.models import Sequential, model_from_json, load_model\n",
    "from keras.layers.core import Activation\n",
    "from keras import datasets\n",
    "\n",
    "import matplotlib.image as mpimg\n",
    "import matplotlib.pyplot as plt\n",
    "%matplotlib inline\n",
    "import numpy as np\n",
    "\n",
    "from numpy import clip\n",
    "import pickle\n",
    "\n",
    "import pandas as pd"
   ]
  },
  {
   "cell_type": "code",
   "execution_count": 2,
   "metadata": {},
   "outputs": [],
   "source": [
    "# Utility Methods\n",
    "def show(img):\n",
    "    if len(img.shape) == 3:\n",
    "        img = img.reshape(img.shape[0],img.shape[1])\n",
    "    plt.tick_params(\n",
    "        which='both',      \n",
    "        left = False,\n",
    "        right = False,\n",
    "        bottom=False,      \n",
    "        top=False,         \n",
    "        labelleft=False,\n",
    "        labelbottom=False) \n",
    "    plt.imshow(img,cmap='gray')\n",
    "    \n",
    "def Union(lst1, lst2): \n",
    "    final_list = list(set(lst1) | set(lst2)) \n",
    "    return final_list"
   ]
  },
  {
   "cell_type": "markdown",
   "metadata": {},
   "source": [
    "# Configuration"
   ]
  },
  {
   "cell_type": "code",
   "execution_count": 3,
   "metadata": {},
   "outputs": [],
   "source": [
    "# Datasets on which we conduct our evaluation\n",
    "datasets = ['mnist', 'fmnist', 'cifar10']\n",
    "\n",
    "# The explanation methods that will be used in the ensemble\n",
    "exp_methods = ['lrp', 'guided_backprop', 'integrated_grad','pattern_attribution', 'grad_times_input']\n",
    "\n",
    "# The directory of the detector models\n",
    "# Format: 'data/defender/<dataset>/orig/train/<explation_method>/<target_class_index>/model/'\n",
    "model_dir_structure = 'data/defender/{}/orig/train/{}/{}/model/'\n",
    "model_name = 'exp_model.h5'\n",
    "\n",
    "# The directory where we store the adversarial examples created using whitebox attack\n",
    "# Format 'data/adv2/adversary/<dataset>/<target_exp_method>/<attack_method_to_test>/target_next/target_<class_idx>'\n",
    "adv2_dir_structure = 'data/adv2/adversary/{}/{}/{}/target_next/target_{}/'\n",
    "succ_examples_filename = 'succ_on_f.npy'\n",
    "\n",
    "# The directory where we store the abnormal explanations created from adversarial examples which were inturn created using whitebox attack\n",
    "adv2_exp_dir_structure = 'data/adversary/{}/adv2/{}/{}/{}/from_{}/'\n",
    "explanations_filename = 'expls.npy'\n",
    "\n",
    "src_exp_methods = exp_methods[:]\n",
    "src_exp_methods.append('overall')\n",
    "\n",
    "enable_detailed_logs = True\n"
   ]
  },
  {
   "cell_type": "markdown",
   "metadata": {},
   "source": [
    "# Load the ExAD-CNN detector models"
   ]
  },
  {
   "cell_type": "markdown",
   "metadata": {},
   "source": [
    "As discussed in Section 4.3.1 of our paper,  for every class in a dataset, we train 5 detector models- one corresponding to every explanation technique."
   ]
  },
  {
   "cell_type": "code",
   "execution_count": null,
   "metadata": {},
   "outputs": [],
   "source": [
    "# Dictionary of models. \n",
    "# This avoids having to reload models multiple times, and therefore speeds up the analysis.\n",
    "print('\\n\\tLoading detector models')\n",
    "model_d = {}\n",
    "for dataset in datasets:\n",
    "    for class_idx in range(10):\n",
    "        for exp_method in exp_methods:\n",
    "            if enable_detailed_logs: print('Loading for dataset:{} target class:{} detector model for explanation technique:{}'.format(dataset,class_idx,exp_method))\n",
    "            model_dir = model_dir_structure.format(dataset, exp_method, str(class_idx))\n",
    "            model = load_model(model_dir + model_name)\n",
    "            model_d[(dataset, class_idx, exp_method)] = model"
   ]
  },
  {
   "cell_type": "code",
   "execution_count": 4,
   "metadata": {},
   "outputs": [
    {
     "name": "stdout",
     "output_type": "stream",
     "text": [
      "Running whitebox attack evaluation on mnist dataset\n",
      "\n",
      "\tLoading detector models\n"
     ]
    },
    {
     "ename": "NameError",
     "evalue": "name 'collections' is not defined",
     "output_type": "error",
     "traceback": [
      "\u001b[0;31m---------------------------------------------------------------------------\u001b[0m",
      "\u001b[0;31mNameError\u001b[0m                                 Traceback (most recent call last)",
      "\u001b[0;32m<ipython-input-4-c01c14c976cd>\u001b[0m in \u001b[0;36m<module>\u001b[0;34m\u001b[0m\n\u001b[1;32m     20\u001b[0m             \u001b[0mmodel_d\u001b[0m\u001b[0;34m[\u001b[0m\u001b[0;34m(\u001b[0m\u001b[0mclass_idx\u001b[0m\u001b[0;34m,\u001b[0m \u001b[0mexp_method\u001b[0m\u001b[0;34m)\u001b[0m\u001b[0;34m]\u001b[0m \u001b[0;34m=\u001b[0m \u001b[0mmodel\u001b[0m\u001b[0;34m\u001b[0m\u001b[0;34m\u001b[0m\u001b[0m\n\u001b[1;32m     21\u001b[0m \u001b[0;34m\u001b[0m\u001b[0m\n\u001b[0;32m---> 22\u001b[0;31m     \u001b[0md\u001b[0m \u001b[0;34m=\u001b[0m \u001b[0mcollections\u001b[0m\u001b[0;34m.\u001b[0m\u001b[0mdefaultdict\u001b[0m\u001b[0;34m(\u001b[0m\u001b[0mlist\u001b[0m\u001b[0;34m)\u001b[0m\u001b[0;34m\u001b[0m\u001b[0;34m\u001b[0m\u001b[0m\n\u001b[0m\u001b[1;32m     23\u001b[0m     \u001b[0mtotal_adv_per_class_per_attack\u001b[0m \u001b[0;34m=\u001b[0m \u001b[0;36m10\u001b[0m\u001b[0;34m\u001b[0m\u001b[0;34m\u001b[0m\u001b[0m\n\u001b[1;32m     24\u001b[0m \u001b[0;34m\u001b[0m\u001b[0m\n",
      "\u001b[0;31mNameError\u001b[0m: name 'collections' is not defined"
     ]
    }
   ],
   "source": [
    "df_list = list()\n",
    "\n",
    "for dataset in datasets:\n",
    "    print('Running whitebox attack evaluation on {} dataset'.format(dataset))\n",
    "    \n",
    "    # set the image dimension (side=H=W) based on the dataset\n",
    "    if dataset in ['mnist', 'fmnist']:\n",
    "        side = 28\n",
    "    elif dataset in ['cifar10']:\n",
    "        side = 32\n",
    "\n",
    "    d = collections.defaultdict(list)\n",
    "    total_adv_per_class_per_attack = 10\n",
    "    \n",
    "    table = []\n",
    "    for target_exp_method in exp_methods: \n",
    "        print('\\n\\tTargeting {} explanation technique'.format(target_exp_method))\n",
    "        row = []\n",
    "        for class_idx in range(10):\n",
    "            if class_idx == 0:\n",
    "                src_class_index = 9\n",
    "            else:\n",
    "                src_class_index = class_idx-1\n",
    "            \n",
    "            if target_exp_method == 'integrated_grad':\n",
    "                attack_methods_to_test = ['cwl2/conf_0']\n",
    "            else:\n",
    "                attack_methods_to_test = ['cwl2/conf_0', 'cwlinf/conf_0', 'cwl0/conf_0', 'bim', 'mim', 'jsma']\n",
    "\n",
    "            for attack_method_to_test in attack_methods_to_test:\n",
    "                # The directory of adv2 examples which fool both f(.) and the target_exp_method\n",
    "                # we do this to ensure we compute the performance on successful adv2 examples only\n",
    "                adv2_dir = adv2_dir_structure.format(dataset, target_exp_method, attack_method_to_test, str(class_idx))\n",
    "                succ_on_f = np.load(adv2_dir + succ_examples_filename)\n",
    "                retained_adv_len = len(np.where(succ_on_f == True)[0])\n",
    "\n",
    "                # if say 8/10 adversarial examples were successful, then failed will have indices from 0 to 7\n",
    "                failed = np.array([i for i in range(retained_adv_len)])\n",
    "\n",
    "                for exp_method in exp_methods:\n",
    "                    # Use the detector model for class_idx (target class) corresponding to exp_method (explanation technique)\n",
    "                    model = model_d[(dataset, class_idx, exp_method)]\n",
    "                    \n",
    "                    adv2_exp_dir = adv2_exp_dir_structure.format(dataset, target_exp_method, attack_method_to_test, exp_method, str(src_class_index) )\n",
    "                    adv2_exp = np.load(adv2_exp_dir + explanations_filename)\n",
    "                    \n",
    "                    # NOTE we retain successful adv2 examples\n",
    "                    adv2_exp = adv2_exp[succ_on_f]\n",
    "                    \n",
    "                    # process images for classification\n",
    "                    adv2_exp *= 255.0/np.max(adv2_exp)\n",
    "                    adv2_exp = adv2_exp.astype(int)\n",
    "                    adv2_exp = adv2_exp.reshape(-1,side,side,1)\n",
    "\n",
    "                    #evaluate model on adv2_exp samples\n",
    "                    result_test = model.predict(adv2_exp)\n",
    "\n",
    "                    result_test_class = np.argmax(result_test, axis=1)\n",
    "                    true_pos = len(np.where(result_test_class==1)[0])\n",
    "                    total_pos = len(result_test_class)\n",
    "                    det_rate = true_pos*100/total_pos\n",
    "\n",
    "                    failed_cur_method = np.where(result_test_class==0)[0]\n",
    "                    failed = np.intersect1d(failed, failed_cur_method)\n",
    "\n",
    "                    d[(target_exp_method, exp_method)].append(det_rate)\n",
    "                    d[(target_exp_method, attack_method_to_test, exp_method)].append(det_rate)\n",
    "\n",
    "                true_pos_cumulative = total_adv_per_class_per_attack - len(failed) \n",
    "                det_rate_cumulative = true_pos_cumulative * 100 / total_adv_per_class_per_attack\n",
    "                d[(target_exp_method, 'overall')].append(det_rate_cumulative)\n",
    "                d[(target_exp_method, attack_method_to_test, 'overall')].append(det_rate_cumulative)\n",
    "\n",
    "        \n",
    "        for src_exp_method in src_exp_methods: \n",
    "            l = np.array(d[(target_exp_method, src_exp_method)])\n",
    "            print('target_exp:{} src_exp:{} detection:{:.2f}'.format(target_exp_method, src_exp_method, np.mean(l)))\n",
    "            mean_detection_rate = np.mean(l)\n",
    "            row.append(mean_detection_rate)\n",
    "        \n",
    "        table.append(row)\n",
    "    \n",
    "    arr = np.array(table)\n",
    "    df = pd.DataFrame(arr, index=exp_methods, columns=src_exp_methods)\n",
    "    df_list.append(df)\n",
    "    \n",
    "    print('\\n\\bThis is the whitebox results for {}. These results should be nearly consistent with Figure 8 of the paper in Appendix.'.format(dataset))\n",
    "    print('First (index) column shows the targeted explanaton technique. Columns 1-5 shows detection results by detector models corresponding to the explanation technique. Rightmost column shows overall detection results by ExAD.')\n",
    "    print(df)\n",
    "    \n"
   ]
  },
  {
   "cell_type": "code",
   "execution_count": null,
   "metadata": {},
   "outputs": [],
   "source": [
    "for dataset_idx in len(df_list):\n",
    "    print('\\n\\bThis is the whitebox results for {}. These results should be nearly consistent with Figure 8 of the paper in Appendix.'.format(datasets[dataset_idx]))\n",
    "    print('First (index) column shows the targeted explanaton technique. Columns 1-5 shows detection results by detector models corresponding to the explanation technique. Rightmost column shows overall detection results by ExAD.')\n",
    "    print(df_list[dataset_idx])\n",
    "    \n",
    "    \n",
    "    "
   ]
  },
  {
   "cell_type": "code",
   "execution_count": null,
   "metadata": {},
   "outputs": [],
   "source": []
  },
  {
   "cell_type": "code",
   "execution_count": null,
   "metadata": {},
   "outputs": [],
   "source": []
  },
  {
   "cell_type": "code",
   "execution_count": null,
   "metadata": {},
   "outputs": [],
   "source": []
  }
 ],
 "metadata": {
  "kernelspec": {
   "display_name": "tf_env",
   "language": "python",
   "name": "tf_env"
  },
  "language_info": {
   "codemirror_mode": {
    "name": "ipython",
    "version": 3
   },
   "file_extension": ".py",
   "mimetype": "text/x-python",
   "name": "python",
   "nbconvert_exporter": "python",
   "pygments_lexer": "ipython3",
   "version": "3.6.10"
  }
 },
 "nbformat": 4,
 "nbformat_minor": 4
}
